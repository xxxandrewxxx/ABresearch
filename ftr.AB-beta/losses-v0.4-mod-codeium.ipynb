{
 "cells": [
  {
   "cell_type": "code",
   "execution_count": 1,
   "metadata": {},
   "outputs": [
    {
     "name": "stdout",
     "output_type": "stream",
     "text": [
      "Optimal option: C\n"
     ]
    }
   ],
   "source": [
    "from scipy.stats import beta, bernoulli\n",
    "\n",
    "# Initial data\n",
    "a = 1\n",
    "b = 1\n",
    "c = 1  \n",
    "d = 1   \n",
    "e = 1\n",
    "f = 1\n",
    "epsilon = 0.1\n",
    "\n",
    "# Initialization\n",
    "conversions_A = 0\n",
    "visits_A = 0\n",
    "conversions_B = 0 \n",
    "visits_B = 0\n",
    "conversions_C = 0\n",
    "visits_C = 0\n",
    "\n",
    "a_post = a\n",
    "b_post = b\n",
    "c_post = c\n",
    "d_post = d\n",
    "e_post = e\n",
    "f_post = f\n",
    "\n",
    "EL_A = 0\n",
    "EL_B = 0\n",
    "EL_C = 0\n",
    "\n",
    "# Loop over visitors\n",
    "for i in range(10000):\n",
    "    # Group selection\n",
    "    group = bernoulli.rvs(1/3)\n",
    "\n",
    "    # Modeling behavior\n",
    "    if group == 0:\n",
    "        conversion = bernoulli.rvs(beta.rvs(a_post, b_post))\n",
    "        conversions_A += conversion\n",
    "        visits_A += 1\n",
    "    elif group == 1:\n",
    "        conversion = bernoulli.rvs(beta.rvs(c_post, d_post))\n",
    "        conversions_B += conversion\n",
    "        visits_B += 1\n",
    "    else:\n",
    "        conversion = bernoulli.rvs(beta.rvs(e_post, f_post))\n",
    "        conversions_C += conversion\n",
    "        visits_C += 1\n",
    "\n",
    "    # Update parameters\n",
    "    a_post = a + conversions_A\n",
    "    b_post = b + visits_A - conversions_A\n",
    "    c_post = c + conversions_B \n",
    "    d_post = d + visits_B - conversions_B\n",
    "    e_post = e + conversions_C\n",
    "    f_post = f + visits_C - conversions_C\n",
    "\n",
    "    # Calculate expected losses\n",
    "    mean_ab = beta.mean(a_post, b_post)\n",
    "    mean_cd = beta.mean(c_post, d_post)\n",
    "    mean_ef = beta.mean(e_post, f_post)\n",
    "\n",
    "    EL_A = mean_ab - mean_cd * mean_ef\n",
    "    EL_B = mean_cd - mean_ab * mean_ef\n",
    "    EL_C = mean_ef - mean_ab * mean_cd\n",
    "\n",
    "    # Check stopping condition\n",
    "    if abs(min(EL_A, EL_B, EL_C) - max(EL_A, EL_B, EL_C)) > epsilon:\n",
    "        break\n",
    "\n",
    "# Determine the best option\n",
    "page_number_with_min_EL = 'A' if EL_A < EL_B and EL_A < EL_C else 'B' if EL_B < EL_C else 'C'\n",
    "\n",
    "# Output the result\n",
    "print('Optimal option:', page_number_with_min_EL)\n"
   ]
  }
 ],
 "metadata": {
  "kernelspec": {
   "display_name": "Python 3 (ipykernel)",
   "language": "python",
   "name": "python3"
  },
  "language_info": {
   "codemirror_mode": {
    "name": "ipython",
    "version": 3
   },
   "file_extension": ".py",
   "mimetype": "text/x-python",
   "name": "python",
   "nbconvert_exporter": "python",
   "pygments_lexer": "ipython3",
   "version": "3.10.8"
  },
  "orig_nbformat": 4
 },
 "nbformat": 4,
 "nbformat_minor": 2
}
