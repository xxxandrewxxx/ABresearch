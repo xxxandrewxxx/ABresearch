{
  "nbformat": 4,
  "nbformat_minor": 0,
  "metadata": {
    "colab": {
      "provenance": []
    },
    "kernelspec": {
      "name": "python3",
      "display_name": "Python 3"
    },
    "language_info": {
      "name": "python"
    }
  },
  "cells": [
    {
      "cell_type": "code",
      "execution_count": 7,
      "metadata": {
        "colab": {
          "base_uri": "https://localhost:8080/"
        },
        "id": "rJoTcI3L75eB",
        "outputId": "ceea8f5d-6e3b-4e80-bf99-ac2906cc7bc1"
      },
      "outputs": [
        {
          "output_type": "stream",
          "name": "stdout",
          "text": [
            "Вероятность победы группы B: 0.4965\n"
          ]
        }
      ],
      "source": [
        "import pandas as pd\n",
        "import numpy as np\n",
        "from scipy.stats import beta\n",
        "\n",
        "# Загрузка данных\n",
        "data_url = 'https://raw.githubusercontent.com/aaubs/data_science_master/main/data/ab_data.csv'\n",
        "df = pd.read_csv(data_url)\n",
        "\n",
        "# Разделение данных на группы A и B\n",
        "group_a = df[df['group'] == 'A']\n",
        "group_b = df[df['group'] == 'B']\n",
        "\n",
        "# Вычисление количества успехов и неудач для каждой группы\n",
        "success_a = group_a['converted'].sum()\n",
        "success_b = group_b['converted'].sum()\n",
        "failures_a = len(group_a) - success_a\n",
        "failures_b = len(group_b) - success_b\n",
        "\n",
        "# Вычисление апостериорных вероятностей с использованием бета-распределения\n",
        "alpha_prior = 1  # Параметр априорного распределения\n",
        "beta_prior = 1   # Параметр априорного распределения\n",
        "\n",
        "# Обновление вероятностей для группы A\n",
        "alpha_posterior_a = alpha_prior + success_a\n",
        "beta_posterior_a = beta_prior + failures_a\n",
        "\n",
        "# Обновление вероятностей для группы B\n",
        "alpha_posterior_b = alpha_prior + success_b\n",
        "beta_posterior_b = beta_prior + failures_b\n",
        "\n",
        "# Генерация случайных выборок из бета-распределения\n",
        "samples_a = beta.rvs(alpha_posterior_a, beta_posterior_a, size=10000)\n",
        "samples_b = beta.rvs(alpha_posterior_b, beta_posterior_b, size=10000)\n",
        "\n",
        "# Расчет вероятности победы группы B\n",
        "win_probability_b = (samples_b > samples_a).mean()\n",
        "\n",
        "# Вывод результатов\n",
        "print(f'Вероятность победы группы B: {win_probability_b:.4f}')"
      ]
    },
    {
      "cell_type": "markdown",
      "source": [],
      "metadata": {
        "id": "HsR_tbMp-mD0"
      }
    }
  ]
}